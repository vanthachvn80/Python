{
 "cells": [
  {
   "cell_type": "markdown",
   "id": "ab5cd50a",
   "metadata": {},
   "source": [
    "### Crawl data from lbar.com"
   ]
  },
  {
   "cell_type": "code",
   "execution_count": 147,
   "id": "ae533f78",
   "metadata": {},
   "outputs": [],
   "source": [
    "# Many thanks to Son Nguyen"
   ]
  },
  {
   "cell_type": "code",
   "execution_count": 148,
   "id": "14bb9169",
   "metadata": {},
   "outputs": [],
   "source": [
    "#collecting data about Reator on lbar.com"
   ]
  },
  {
   "cell_type": "code",
   "execution_count": 149,
   "id": "f44ee71d",
   "metadata": {},
   "outputs": [
    {
     "name": "stdout",
     "output_type": "stream",
     "text": [
      "Requirement already satisfied: beautifulsoup4 in c:\\users\\admin\\anaconda3\\lib\\site-packages (4.10.0)\n",
      "Requirement already satisfied: soupsieve>1.2 in c:\\users\\admin\\anaconda3\\lib\\site-packages (from beautifulsoup4) (2.2.1)\n"
     ]
    }
   ],
   "source": [
    "#!pip install pandoc -->for converting jupyter notebook to .pdf\n",
    "#!pip install nbconvert[webpdf] -->for converting to .pdf\n",
    "\n",
    "!pip install beautifulsoup4\n",
    "\n",
    "import requests\n",
    "from bs4 import BeautifulSoup\n",
    "import re  #dùng cho tách số điện thoại"
   ]
  },
  {
   "cell_type": "code",
   "execution_count": 150,
   "id": "5e512d24",
   "metadata": {},
   "outputs": [],
   "source": [
    "link_base =\"https://www.lbar.com/index.php?src=directory&view=rets_flex_active_agents\"\\\n",
    "\"&srctype=rets_flex_active_agents_lister&xsearch_id=rets_flex_active_agents_alpha\"\\\n",
    "\"&xsearch=dummy&query=name.starts.\"\n",
    "\n",
    "#print(link_base)"
   ]
  },
  {
   "cell_type": "code",
   "execution_count": 151,
   "id": "56ec64f3",
   "metadata": {},
   "outputs": [],
   "source": [
    "domain_base = \"https://www.lbar.com/\""
   ]
  },
  {
   "cell_type": "markdown",
   "id": "e268eb3b",
   "metadata": {},
   "source": [
    "#### thêm thông số phân trang: &pos=0,2000,2000&xsearch_id=rets_flex_active_agents_alpha&xsearch=dummy"
   ]
  },
  {
   "cell_type": "code",
   "execution_count": 152,
   "id": "0df8d225",
   "metadata": {},
   "outputs": [],
   "source": [
    "list_link =[]\n",
    "for one in range(97,123):\n",
    "    item = link_base + chr(one) + \"&pos=0,2000,2000&xsearch_id=rets_flex_active_agents_alpha&xsearch=dummy\"\n",
    "    list_link.append(item)\n",
    "    #print(list_link)"
   ]
  },
  {
   "cell_type": "code",
   "execution_count": 153,
   "id": "95f0831e",
   "metadata": {},
   "outputs": [],
   "source": [
    "#print(len(list_link))"
   ]
  },
  {
   "cell_type": "markdown",
   "id": "cc957769",
   "metadata": {},
   "source": [
    "##### Phân tích cú pháp và bóc tách dữ liệu-->sử dụng Beautifulsoup"
   ]
  },
  {
   "cell_type": "code",
   "execution_count": 156,
   "id": "4d41bc03",
   "metadata": {},
   "outputs": [
    {
     "name": "stdout",
     "output_type": "stream",
     "text": [
      "counter: 0\n",
      "counter: 1\n",
      "counter: 2\n",
      "counter: 3\n",
      "counter: 4\n",
      "counter: 5\n",
      "counter: 6\n",
      "counter: 7\n",
      "counter: 8\n",
      "counter: 9\n",
      "counter: 10\n",
      "counter: 11\n",
      "counter: 12\n",
      "counter: 13\n",
      "counter: 14\n",
      "counter: 15\n",
      "counter: 16\n",
      "counter: 17\n",
      "counter: 18\n",
      "counter: 19\n",
      "counter: 20\n",
      "counter: 21\n",
      "counter: 22\n",
      "counter: 23\n",
      "counter: 24\n",
      "counter: 25\n"
     ]
    }
   ],
   "source": [
    "# headers là cần thiết để tránh trường hợp website xem là robot\n",
    "\n",
    "headers = {'User-Agent': 'Mozilla/5.0 (Macintosh; Intel Mac OS X 10_10_1) AppleWebKit/537.36 (KHTML, like Gecko) Chrome/39.0.2171.95 Safari/537.36'}\n",
    "\n",
    "f = open(\"lbar_realtor.csv\", \"a\")  #tạo file lbar_realtor.csv để lưu dữ liệu \n",
    "\n",
    "head =\"Link_profile, Realtor, Job, Address, Email, Phone number,\\n\" #thêm Header cho file lbar_realtor.csv\n",
    "f.write(head)\n",
    "\n",
    "for i in range(0,len(list_link)): #ránh mất dữ liệu khi lỗi mạng, muốn chạy tiếp tục chứ ko phải chạy từ đầu\n",
    "    print(\"counter:\", i) #in ra lần chạy\n",
    "    \n",
    "    link = list_link[i]\n",
    "    r = requests.get(link, headers=headers) # headers là cần thiết để tránh trường hợp website xem là robot\n",
    "    #print(r.text)\n",
    "    soup = BeautifulSoup(r.text, 'html.parser')\n",
    "    tb_data = soup.find_all('table') # lấy các table\n",
    "    #soup.find('tbody')\n",
    "\n",
    "    #print(tb_data[0].find('tbody')) # lấy phần tử đầu tiên tb_data[0] vì trang này chỉ có 1 table cũng chính là table cần thao tác\n",
    "    tbody_data = tb_data[0].find('tbody')\n",
    "    \n",
    "    tr_data = soup.find_all('tr') # lấy ra tất cả dòng tr, có thể bỏ luôn 2 bước tb_data, tbody_data\n",
    "    #print(tr_data) #  -->tr_data ở dạng mảng \n",
    "    \n",
    "    #vì tr_data ở dạng mảng nên có thể dòng vòng lặp for với row\n",
    "    for row in tr_data[1:]: #cột đầu (td) là header, không cần lấy nên chọn cột thứ 2 đến hết\n",
    "        #print(row.find_all('td')) # lấy về từng cái td\n",
    "        td_list = row.find_all('td')\n",
    "        #td_list[0] -->phần tử đầu tiên chứa href\n",
    "        \n",
    "        link_profile = td_list[0].find_all(\"a\")[0].get('href') #thẻ a thứ nhất a[0]\n",
    "        link_p = domain_base + link_profile\n",
    "        #print(link_p)\n",
    "        \n",
    "        name = td_list[1].text\n",
    "        names = name.split(\"\\n\")\n",
    "        names.remove('') #xóa ký tự rỗng\n",
    "        \n",
    "        name1 = names[0].strip().replace(\",\", \"-\") # cắt khoảng trống 2 đầu ký tự thứ nhất\n",
    "        name2 = names[1].strip().replace(\",\", \"-\")\n",
    "        #print(name2) \n",
    "        \n",
    "        # địa chỉ chỉ 1 dòng nên cần td_list[2].text, dù có xuống dòng \n",
    "        addr = td_list[2].text.strip().replace(\",\", \"-\").replace(\"\\n\", '') #replace(\"\\n\", ''): xóa ký tự xuống dòng\n",
    "        #print(addr)\n",
    "        \n",
    "        #phone number and e-mail\n",
    "        #contact_data = td_list[3].text.strip()\n",
    "        #print(contact_data)\n",
    "        \n",
    "        #email\n",
    "        try:\n",
    "            email = td_list[3].find_all(\"a\")[0].text\n",
    "            #print(email)\n",
    "        except:\n",
    "            email ='' #tránh báo lỗi trong trường hợp không có email\n",
    "        \n",
    "        #phone number\n",
    "        try:\n",
    "            #regex =\"\\([0-9]{3}\\)\\s+[0-9]{3}\\-[0-9]{4}\"\n",
    "            phone = td_list[3].text\n",
    "            p = re.compile(r\"\\([0-9]{3}\\)\\s+[0-9]{3}\\-[0-9]{4}\")\n",
    "            x = p.search(phone)\n",
    "            pnb = str(x.group(0))\n",
    "            #print(pnb)\n",
    "        except:\n",
    "            pnb ='' #tránh báo lỗi trong trường hợp không có phone number\n",
    "\n",
    "        str1 =f\"{link_p},{name1},{name2},{addr}, {email}, {pnb}, \\n\" #tạo chuỗi chứa nội dung, để lưu thành file .csv (f= format)\n",
    "        \n",
    "        f.write(str1)\n",
    "        \n",
    "        \n",
    "f.close()\n",
    "\n"
   ]
  },
  {
   "cell_type": "code",
   "execution_count": null,
   "id": "f5a0400a",
   "metadata": {},
   "outputs": [],
   "source": []
  },
  {
   "cell_type": "code",
   "execution_count": null,
   "id": "b315b879",
   "metadata": {},
   "outputs": [],
   "source": []
  }
 ],
 "metadata": {
  "kernelspec": {
   "display_name": "Python 3 (ipykernel)",
   "language": "python",
   "name": "python3"
  },
  "language_info": {
   "codemirror_mode": {
    "name": "ipython",
    "version": 3
   },
   "file_extension": ".py",
   "mimetype": "text/x-python",
   "name": "python",
   "nbconvert_exporter": "python",
   "pygments_lexer": "ipython3",
   "version": "3.9.7"
  }
 },
 "nbformat": 4,
 "nbformat_minor": 5
}
