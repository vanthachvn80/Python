{
 "cells": [
  {
   "cell_type": "code",
   "execution_count": 1,
   "metadata": {},
   "outputs": [],
   "source": [
    "# xác định 1 tạp chí thuộc danh mục Scopus có thuộc về WoS hay không\n",
    "# pip install wos \n",
    "\n",
    "import requests\n",
    "from bs4 import BeautifulSoup\n",
    "from openpyxl import load_workbook"
   ]
  },
  {
   "cell_type": "code",
   "execution_count": 2,
   "metadata": {},
   "outputs": [],
   "source": [
    "# Tên file Excel của bạn\n",
    "excel_file_path = \"Scopus_index_Political Science and Relation.xlsx\""
   ]
  },
  {
   "cell_type": "code",
   "execution_count": 3,
   "metadata": {},
   "outputs": [],
   "source": [
    "# Mở file Excel\n",
    "workbook = load_workbook(excel_file_path)\n",
    "sheet = workbook.active"
   ]
  },
  {
   "cell_type": "code",
   "execution_count": 4,
   "metadata": {},
   "outputs": [],
   "source": [
    "# Lấy danh sách tên tạp chí từ cột tương ứng trong file Excel (thay thế 'B' bằng cột của bạn)\n",
    "journal_names = [cell.value for cell in sheet['B']]"
   ]
  },
  {
   "cell_type": "code",
   "execution_count": 5,
   "metadata": {},
   "outputs": [],
   "source": [
    "# Khai báo URL cơ sở cho Web of Science\n",
    "base_url = \"https://mjl.clarivate.com/home\""
   ]
  },
  {
   "cell_type": "code",
   "execution_count": 6,
   "metadata": {},
   "outputs": [],
   "source": [
    "# Lặp qua từng tên tạp chí để kiểm tra và cập nhật thông tin\n",
    "for row_index, journal_name in enumerate(journal_names, start=2):\n",
    "    response = requests.get(f\"{base_url}/{journal_name}\")\n",
    "    \n",
    "    if response.status_code == 200:\n",
    "        # Sử dụng BeautifulSoup để phân tích cấu trúc HTML\n",
    "        soup = BeautifulSoup(response.content, 'html.parser')\n",
    "        \n",
    "        # Trích xuất thông tin liên quan từ trang web và cập nhật vào file Excel\n",
    "        # Cần xác định cách trích xuất thông tin từ HTML dựa trên cấu trúc cụ thể của trang web\n",
    "        \n",
    "        # Ví dụ:\n",
    "        journal_info = soup.find(\"div\", class_=\"journal-info\")\n",
    "        if journal_info:\n",
    "            categories = journal_info.find_all(\"span\", class_=\"category\")\n",
    "            categories_text = [category.get_text() for category in categories]\n",
    "            categories_text = \", \".join(categories_text)\n",
    "            \n",
    "            sheet[f'C{row_index}'] = categories_text\n",
    "        else:\n",
    "            sheet[f'C{row_index}'] = 'No Info'\n",
    "    else:\n",
    "        sheet[f'C{row_index}'] = 'No Response'\n"
   ]
  },
  {
   "cell_type": "code",
   "execution_count": 7,
   "metadata": {},
   "outputs": [],
   "source": [
    "# Lưu file Excel sau khi cập nhật\n",
    "workbook.save(excel_file_path)"
   ]
  }
 ],
 "metadata": {
  "kernelspec": {
   "display_name": "base",
   "language": "python",
   "name": "python3"
  },
  "language_info": {
   "codemirror_mode": {
    "name": "ipython",
    "version": 3
   },
   "file_extension": ".py",
   "mimetype": "text/x-python",
   "name": "python",
   "nbconvert_exporter": "python",
   "pygments_lexer": "ipython3",
   "version": "3.9.7"
  },
  "orig_nbformat": 4
 },
 "nbformat": 4,
 "nbformat_minor": 2
}
