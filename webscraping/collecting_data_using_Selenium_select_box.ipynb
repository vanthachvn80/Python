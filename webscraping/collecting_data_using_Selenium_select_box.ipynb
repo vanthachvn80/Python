{
 "cells": [
  {
   "cell_type": "code",
   "execution_count": 74,
   "metadata": {},
   "outputs": [],
   "source": [
    "# using Selenium\n",
    "# pip install selenium"
   ]
  },
  {
   "cell_type": "code",
   "execution_count": 75,
   "metadata": {},
   "outputs": [],
   "source": [
    "# import libraries\n",
    "#from bs4 import BeautifulSoup \n",
    "from selenium import webdriver\n",
    "\n",
    "from selenium.webdriver.common.by import By\n",
    "from selenium.webdriver.support.ui import Select  #thư viên cho Select box\n",
    "from selenium.webdriver.common.keys import Keys  # để gán giá trị username, password\n",
    "\n",
    "import json # thêm thư viện để đọc file JSON\n",
    "\n",
    "from selenium.common.exceptions import NoSuchElementException"
   ]
  },
  {
   "cell_type": "code",
   "execution_count": 76,
   "metadata": {},
   "outputs": [],
   "source": [
    "# Đường dẫn đến Chrome WebDriver trên máy tính của bạn\n",
    "chromedriver_path = r\"C:\\3.chromedriver-win32\\chromedriver-win32\\chromedriver.exe\"\n",
    "\n",
    "# Khai báo đường dẫn cho Chrome WebDriver bằng cách thiết lập biến môi trường\n",
    "webdriver.chrome.driver = chromedriver_path\n",
    "\n",
    "# Khởi tạo trình duyệt Chrome\n",
    "driver = webdriver.Chrome()"
   ]
  },
  {
   "cell_type": "code",
   "execution_count": 77,
   "metadata": {},
   "outputs": [],
   "source": [
    "# https://www.youtube.com/watch?v=dajd7cdwueQ&list=PLYlCX2e2RsgnPZXCqonA2nrKkGuNoQY-p&index=2\n",
    "# Mở trang web Trường Đại học Mở thành phố Hồ Chí Minh\n",
    "driver.get(\"https://lms.ou.edu.vn/\")"
   ]
  },
  {
   "cell_type": "code",
   "execution_count": 78,
   "metadata": {},
   "outputs": [],
   "source": [
    "#print(driver.title)"
   ]
  },
  {
   "cell_type": "code",
   "execution_count": 79,
   "metadata": {},
   "outputs": [],
   "source": [
    "#print(driver.page_source)"
   ]
  },
  {
   "cell_type": "markdown",
   "metadata": {},
   "source": [
    "### Did NOT work"
   ]
  },
  {
   "cell_type": "code",
   "execution_count": 80,
   "metadata": {},
   "outputs": [
    {
     "ename": "ElementNotInteractableException",
     "evalue": "Message: element not interactable\n  (Session info: chrome=116.0.5845.111)\nStacktrace:\n\tGetHandleVerifier [0x00007FF6311152A2+57122]\n\t(No symbol) [0x00007FF63108EA92]\n\t(No symbol) [0x00007FF630F5E25D]\n\t(No symbol) [0x00007FF630F98E97]\n\t(No symbol) [0x00007FF630F8F25F]\n\t(No symbol) [0x00007FF630FB6FDA]\n\t(No symbol) [0x00007FF630F8EB76]\n\t(No symbol) [0x00007FF630FB71F0]\n\t(No symbol) [0x00007FF630FCEB82]\n\t(No symbol) [0x00007FF630FB6DB3]\n\t(No symbol) [0x00007FF630F8D2B1]\n\t(No symbol) [0x00007FF630F8E494]\n\tGetHandleVerifier [0x00007FF6313BEF82+2849794]\n\tGetHandleVerifier [0x00007FF631411D24+3189156]\n\tGetHandleVerifier [0x00007FF63140ACAF+3160367]\n\tGetHandleVerifier [0x00007FF6311A6D06+653702]\n\t(No symbol) [0x00007FF63109A208]\n\t(No symbol) [0x00007FF6310962C4]\n\t(No symbol) [0x00007FF6310963F6]\n\t(No symbol) [0x00007FF6310867A3]\n\tBaseThreadInitThunk [0x00007FFEFAC97BD4+20]\n\tRtlUserThreadStart [0x00007FFEFAFCCED1+33]\n",
     "output_type": "error",
     "traceback": [
      "\u001b[1;31m---------------------------------------------------------------------------\u001b[0m",
      "\u001b[1;31mElementNotInteractableException\u001b[0m           Traceback (most recent call last)",
      "\u001b[1;32md:\\Data science & Python  2022\\2. Upwork jobs\\job #5\\collecting_data_using_Selenium_select_box.ipynb Cell 8\u001b[0m in \u001b[0;36m2\n\u001b[0;32m      <a href='vscode-notebook-cell:/d%3A/Data%20science%20%26%20Python%20%202022/2.%20Upwork%20jobs/job%20%235/collecting_data_using_Selenium_select_box.ipynb#X16sZmlsZQ%3D%3D?line=0'>1</a>\u001b[0m \u001b[39m# click button\u001b[39;00m\n\u001b[1;32m----> <a href='vscode-notebook-cell:/d%3A/Data%20science%20%26%20Python%20%202022/2.%20Upwork%20jobs/job%20%235/collecting_data_using_Selenium_select_box.ipynb#X16sZmlsZQ%3D%3D?line=1'>2</a>\u001b[0m driver\u001b[39m.\u001b[39mfind_element(By\u001b[39m.\u001b[39mCSS_SELECTOR,\u001b[39m'\u001b[39m\u001b[39m#about a.main-btn\u001b[39m\u001b[39m'\u001b[39m)\u001b[39m.\u001b[39mclick()\n",
      "File \u001b[1;32mc:\\Users\\ADMIN\\AppData\\Local\\Programs\\Python\\Python310\\lib\\site-packages\\selenium\\webdriver\\remote\\webelement.py:94\u001b[0m, in \u001b[0;36mWebElement.click\u001b[1;34m(self)\u001b[0m\n\u001b[0;32m     92\u001b[0m \u001b[39mdef\u001b[39;00m \u001b[39mclick\u001b[39m(\u001b[39mself\u001b[39m) \u001b[39m-\u001b[39m\u001b[39m>\u001b[39m \u001b[39mNone\u001b[39;00m:\n\u001b[0;32m     93\u001b[0m     \u001b[39m\"\"\"Clicks the element.\"\"\"\u001b[39;00m\n\u001b[1;32m---> 94\u001b[0m     \u001b[39mself\u001b[39;49m\u001b[39m.\u001b[39;49m_execute(Command\u001b[39m.\u001b[39;49mCLICK_ELEMENT)\n",
      "File \u001b[1;32mc:\\Users\\ADMIN\\AppData\\Local\\Programs\\Python\\Python310\\lib\\site-packages\\selenium\\webdriver\\remote\\webelement.py:395\u001b[0m, in \u001b[0;36mWebElement._execute\u001b[1;34m(self, command, params)\u001b[0m\n\u001b[0;32m    393\u001b[0m     params \u001b[39m=\u001b[39m {}\n\u001b[0;32m    394\u001b[0m params[\u001b[39m\"\u001b[39m\u001b[39mid\u001b[39m\u001b[39m\"\u001b[39m] \u001b[39m=\u001b[39m \u001b[39mself\u001b[39m\u001b[39m.\u001b[39m_id\n\u001b[1;32m--> 395\u001b[0m \u001b[39mreturn\u001b[39;00m \u001b[39mself\u001b[39;49m\u001b[39m.\u001b[39;49m_parent\u001b[39m.\u001b[39;49mexecute(command, params)\n",
      "File \u001b[1;32mc:\\Users\\ADMIN\\AppData\\Local\\Programs\\Python\\Python310\\lib\\site-packages\\selenium\\webdriver\\remote\\webdriver.py:345\u001b[0m, in \u001b[0;36mWebDriver.execute\u001b[1;34m(self, driver_command, params)\u001b[0m\n\u001b[0;32m    343\u001b[0m response \u001b[39m=\u001b[39m \u001b[39mself\u001b[39m\u001b[39m.\u001b[39mcommand_executor\u001b[39m.\u001b[39mexecute(driver_command, params)\n\u001b[0;32m    344\u001b[0m \u001b[39mif\u001b[39;00m response:\n\u001b[1;32m--> 345\u001b[0m     \u001b[39mself\u001b[39;49m\u001b[39m.\u001b[39;49merror_handler\u001b[39m.\u001b[39;49mcheck_response(response)\n\u001b[0;32m    346\u001b[0m     response[\u001b[39m\"\u001b[39m\u001b[39mvalue\u001b[39m\u001b[39m\"\u001b[39m] \u001b[39m=\u001b[39m \u001b[39mself\u001b[39m\u001b[39m.\u001b[39m_unwrap_value(response\u001b[39m.\u001b[39mget(\u001b[39m\"\u001b[39m\u001b[39mvalue\u001b[39m\u001b[39m\"\u001b[39m, \u001b[39mNone\u001b[39;00m))\n\u001b[0;32m    347\u001b[0m     \u001b[39mreturn\u001b[39;00m response\n",
      "File \u001b[1;32mc:\\Users\\ADMIN\\AppData\\Local\\Programs\\Python\\Python310\\lib\\site-packages\\selenium\\webdriver\\remote\\errorhandler.py:229\u001b[0m, in \u001b[0;36mErrorHandler.check_response\u001b[1;34m(self, response)\u001b[0m\n\u001b[0;32m    227\u001b[0m         alert_text \u001b[39m=\u001b[39m value[\u001b[39m\"\u001b[39m\u001b[39malert\u001b[39m\u001b[39m\"\u001b[39m]\u001b[39m.\u001b[39mget(\u001b[39m\"\u001b[39m\u001b[39mtext\u001b[39m\u001b[39m\"\u001b[39m)\n\u001b[0;32m    228\u001b[0m     \u001b[39mraise\u001b[39;00m exception_class(message, screen, stacktrace, alert_text)  \u001b[39m# type: ignore[call-arg]  # mypy is not smart enough here\u001b[39;00m\n\u001b[1;32m--> 229\u001b[0m \u001b[39mraise\u001b[39;00m exception_class(message, screen, stacktrace)\n",
      "\u001b[1;31mElementNotInteractableException\u001b[0m: Message: element not interactable\n  (Session info: chrome=116.0.5845.111)\nStacktrace:\n\tGetHandleVerifier [0x00007FF6311152A2+57122]\n\t(No symbol) [0x00007FF63108EA92]\n\t(No symbol) [0x00007FF630F5E25D]\n\t(No symbol) [0x00007FF630F98E97]\n\t(No symbol) [0x00007FF630F8F25F]\n\t(No symbol) [0x00007FF630FB6FDA]\n\t(No symbol) [0x00007FF630F8EB76]\n\t(No symbol) [0x00007FF630FB71F0]\n\t(No symbol) [0x00007FF630FCEB82]\n\t(No symbol) [0x00007FF630FB6DB3]\n\t(No symbol) [0x00007FF630F8D2B1]\n\t(No symbol) [0x00007FF630F8E494]\n\tGetHandleVerifier [0x00007FF6313BEF82+2849794]\n\tGetHandleVerifier [0x00007FF631411D24+3189156]\n\tGetHandleVerifier [0x00007FF63140ACAF+3160367]\n\tGetHandleVerifier [0x00007FF6311A6D06+653702]\n\t(No symbol) [0x00007FF63109A208]\n\t(No symbol) [0x00007FF6310962C4]\n\t(No symbol) [0x00007FF6310963F6]\n\t(No symbol) [0x00007FF6310867A3]\n\tBaseThreadInitThunk [0x00007FFEFAC97BD4+20]\n\tRtlUserThreadStart [0x00007FFEFAFCCED1+33]\n"
     ]
    }
   ],
   "source": [
    "# click button\n",
    "driver.find_element(By.CSS_SELECTOR,'#about a.main-btn').click()"
   ]
  },
  {
   "cell_type": "code",
   "execution_count": null,
   "metadata": {},
   "outputs": [
    {
     "ename": "ElementNotInteractableException",
     "evalue": "Message: element not interactable\n  (Session info: chrome=116.0.5845.111)\nStacktrace:\n\tGetHandleVerifier [0x00007FF6311152A2+57122]\n\t(No symbol) [0x00007FF63108EA92]\n\t(No symbol) [0x00007FF630F5E25D]\n\t(No symbol) [0x00007FF630F98E97]\n\t(No symbol) [0x00007FF630F8F25F]\n\t(No symbol) [0x00007FF630FB6FDA]\n\t(No symbol) [0x00007FF630F8EB76]\n\t(No symbol) [0x00007FF630FB71F0]\n\t(No symbol) [0x00007FF630FCEB82]\n\t(No symbol) [0x00007FF630FB6DB3]\n\t(No symbol) [0x00007FF630F8D2B1]\n\t(No symbol) [0x00007FF630F8E494]\n\tGetHandleVerifier [0x00007FF6313BEF82+2849794]\n\tGetHandleVerifier [0x00007FF631411D24+3189156]\n\tGetHandleVerifier [0x00007FF63140ACAF+3160367]\n\tGetHandleVerifier [0x00007FF6311A6D06+653702]\n\t(No symbol) [0x00007FF63109A208]\n\t(No symbol) [0x00007FF6310962C4]\n\t(No symbol) [0x00007FF6310963F6]\n\t(No symbol) [0x00007FF6310867A3]\n\tBaseThreadInitThunk [0x00007FFEFAC97BD4+20]\n\tRtlUserThreadStart [0x00007FFEFAFCCED1+33]\n",
     "output_type": "error",
     "traceback": [
      "\u001b[1;31m---------------------------------------------------------------------------\u001b[0m",
      "\u001b[1;31mElementNotInteractableException\u001b[0m           Traceback (most recent call last)",
      "\u001b[1;32md:\\Data science & Python  2022\\2. Upwork jobs\\job #5\\collecting_data_using_Selenium_select_box.ipynb Cell 7\u001b[0m in \u001b[0;36m2\n\u001b[0;32m      <a href='vscode-notebook-cell:/d%3A/Data%20science%20%26%20Python%20%202022/2.%20Upwork%20jobs/job%20%235/collecting_data_using_Selenium_select_box.ipynb#X12sZmlsZQ%3D%3D?line=0'>1</a>\u001b[0m \u001b[39m# select box\u001b[39;00m\n\u001b[1;32m----> <a href='vscode-notebook-cell:/d%3A/Data%20science%20%26%20Python%20%202022/2.%20Upwork%20jobs/job%20%235/collecting_data_using_Selenium_select_box.ipynb#X12sZmlsZQ%3D%3D?line=1'>2</a>\u001b[0m driver\u001b[39m.\u001b[39mfind_element(By\u001b[39m.\u001b[39mCSS_SELECTOR,\u001b[39m'\u001b[39m\u001b[39m#about a.main-btn\u001b[39m\u001b[39m'\u001b[39m)\u001b[39m.\u001b[39mclick()\n\u001b[0;32m      <a href='vscode-notebook-cell:/d%3A/Data%20science%20%26%20Python%20%202022/2.%20Upwork%20jobs/job%20%235/collecting_data_using_Selenium_select_box.ipynb#X12sZmlsZQ%3D%3D?line=2'>3</a>\u001b[0m driver\u001b[39m.\u001b[39mfind_element(By\u001b[39m.\u001b[39mCSS_SELECTOR,\u001b[39m'\u001b[39m\u001b[39mbutton.login100-form-btn\u001b[39m\u001b[39m'\u001b[39m)\u001b[39m.\u001b[39mclick()\n",
      "File \u001b[1;32mc:\\Users\\ADMIN\\AppData\\Local\\Programs\\Python\\Python310\\lib\\site-packages\\selenium\\webdriver\\remote\\webelement.py:94\u001b[0m, in \u001b[0;36mWebElement.click\u001b[1;34m(self)\u001b[0m\n\u001b[0;32m     92\u001b[0m \u001b[39mdef\u001b[39;00m \u001b[39mclick\u001b[39m(\u001b[39mself\u001b[39m) \u001b[39m-\u001b[39m\u001b[39m>\u001b[39m \u001b[39mNone\u001b[39;00m:\n\u001b[0;32m     93\u001b[0m     \u001b[39m\"\"\"Clicks the element.\"\"\"\u001b[39;00m\n\u001b[1;32m---> 94\u001b[0m     \u001b[39mself\u001b[39;49m\u001b[39m.\u001b[39;49m_execute(Command\u001b[39m.\u001b[39;49mCLICK_ELEMENT)\n",
      "File \u001b[1;32mc:\\Users\\ADMIN\\AppData\\Local\\Programs\\Python\\Python310\\lib\\site-packages\\selenium\\webdriver\\remote\\webelement.py:395\u001b[0m, in \u001b[0;36mWebElement._execute\u001b[1;34m(self, command, params)\u001b[0m\n\u001b[0;32m    393\u001b[0m     params \u001b[39m=\u001b[39m {}\n\u001b[0;32m    394\u001b[0m params[\u001b[39m\"\u001b[39m\u001b[39mid\u001b[39m\u001b[39m\"\u001b[39m] \u001b[39m=\u001b[39m \u001b[39mself\u001b[39m\u001b[39m.\u001b[39m_id\n\u001b[1;32m--> 395\u001b[0m \u001b[39mreturn\u001b[39;00m \u001b[39mself\u001b[39;49m\u001b[39m.\u001b[39;49m_parent\u001b[39m.\u001b[39;49mexecute(command, params)\n",
      "File \u001b[1;32mc:\\Users\\ADMIN\\AppData\\Local\\Programs\\Python\\Python310\\lib\\site-packages\\selenium\\webdriver\\remote\\webdriver.py:345\u001b[0m, in \u001b[0;36mWebDriver.execute\u001b[1;34m(self, driver_command, params)\u001b[0m\n\u001b[0;32m    343\u001b[0m response \u001b[39m=\u001b[39m \u001b[39mself\u001b[39m\u001b[39m.\u001b[39mcommand_executor\u001b[39m.\u001b[39mexecute(driver_command, params)\n\u001b[0;32m    344\u001b[0m \u001b[39mif\u001b[39;00m response:\n\u001b[1;32m--> 345\u001b[0m     \u001b[39mself\u001b[39;49m\u001b[39m.\u001b[39;49merror_handler\u001b[39m.\u001b[39;49mcheck_response(response)\n\u001b[0;32m    346\u001b[0m     response[\u001b[39m\"\u001b[39m\u001b[39mvalue\u001b[39m\u001b[39m\"\u001b[39m] \u001b[39m=\u001b[39m \u001b[39mself\u001b[39m\u001b[39m.\u001b[39m_unwrap_value(response\u001b[39m.\u001b[39mget(\u001b[39m\"\u001b[39m\u001b[39mvalue\u001b[39m\u001b[39m\"\u001b[39m, \u001b[39mNone\u001b[39;00m))\n\u001b[0;32m    347\u001b[0m     \u001b[39mreturn\u001b[39;00m response\n",
      "File \u001b[1;32mc:\\Users\\ADMIN\\AppData\\Local\\Programs\\Python\\Python310\\lib\\site-packages\\selenium\\webdriver\\remote\\errorhandler.py:229\u001b[0m, in \u001b[0;36mErrorHandler.check_response\u001b[1;34m(self, response)\u001b[0m\n\u001b[0;32m    227\u001b[0m         alert_text \u001b[39m=\u001b[39m value[\u001b[39m\"\u001b[39m\u001b[39malert\u001b[39m\u001b[39m\"\u001b[39m]\u001b[39m.\u001b[39mget(\u001b[39m\"\u001b[39m\u001b[39mtext\u001b[39m\u001b[39m\"\u001b[39m)\n\u001b[0;32m    228\u001b[0m     \u001b[39mraise\u001b[39;00m exception_class(message, screen, stacktrace, alert_text)  \u001b[39m# type: ignore[call-arg]  # mypy is not smart enough here\u001b[39;00m\n\u001b[1;32m--> 229\u001b[0m \u001b[39mraise\u001b[39;00m exception_class(message, screen, stacktrace)\n",
      "\u001b[1;31mElementNotInteractableException\u001b[0m: Message: element not interactable\n  (Session info: chrome=116.0.5845.111)\nStacktrace:\n\tGetHandleVerifier [0x00007FF6311152A2+57122]\n\t(No symbol) [0x00007FF63108EA92]\n\t(No symbol) [0x00007FF630F5E25D]\n\t(No symbol) [0x00007FF630F98E97]\n\t(No symbol) [0x00007FF630F8F25F]\n\t(No symbol) [0x00007FF630FB6FDA]\n\t(No symbol) [0x00007FF630F8EB76]\n\t(No symbol) [0x00007FF630FB71F0]\n\t(No symbol) [0x00007FF630FCEB82]\n\t(No symbol) [0x00007FF630FB6DB3]\n\t(No symbol) [0x00007FF630F8D2B1]\n\t(No symbol) [0x00007FF630F8E494]\n\tGetHandleVerifier [0x00007FF6313BEF82+2849794]\n\tGetHandleVerifier [0x00007FF631411D24+3189156]\n\tGetHandleVerifier [0x00007FF63140ACAF+3160367]\n\tGetHandleVerifier [0x00007FF6311A6D06+653702]\n\t(No symbol) [0x00007FF63109A208]\n\t(No symbol) [0x00007FF6310962C4]\n\t(No symbol) [0x00007FF6310963F6]\n\t(No symbol) [0x00007FF6310867A3]\n\tBaseThreadInitThunk [0x00007FFEFAC97BD4+20]\n\tRtlUserThreadStart [0x00007FFEFAFCCED1+33]\n"
     ]
    }
   ],
   "source": [
    "# select box\n",
    "driver.find_element(By.CSS_SELECTOR,'button.login100-form-btn').click()"
   ]
  },
  {
   "cell_type": "code",
   "execution_count": null,
   "metadata": {},
   "outputs": [],
   "source": [
    "# select mục nào: SV hay Giảng viên\n",
    "user_type = Select(driver.find_element(By.ID,'form-usertype'))\n",
    "user_type.select_by_index(3)   # đếm từ 0, 1,2, 3 (3 = Giảng viên)"
   ]
  },
  {
   "cell_type": "code",
   "execution_count": null,
   "metadata": {},
   "outputs": [],
   "source": [
    "\n",
    "# Username\n",
    "username = Select(driver.find_element(By.ID,'form-username'))\n",
    "\n",
    "# Password\n",
    "password = Select(driver.find_element(By.ID,'form-password'))\n",
    "\n",
    "# mở file JSON chứa tập tin Username, password\n",
    "with open('/Users/stonehenge/account.json') as f: #file chứa dữ liệu\n",
    "    d = json.load(f)\n",
    "    username.send_keys(d['username'])\n",
    "    password.send_keys(d['password'])\n",
    "\n",
    "# tiếp đến, click Đăng nhập vào trang web\n",
    "driver.find_element(By.CLASS_NAME, 'm-loginbox-submit-btn').click()\n"
   ]
  },
  {
   "cell_type": "code",
   "execution_count": null,
   "metadata": {},
   "outputs": [],
   "source": [
    "# đóng trang web\n",
    "driver.close()"
   ]
  }
 ],
 "metadata": {
  "kernelspec": {
   "display_name": "base",
   "language": "python",
   "name": "python3"
  },
  "language_info": {
   "codemirror_mode": {
    "name": "ipython",
    "version": 3
   },
   "file_extension": ".py",
   "mimetype": "text/x-python",
   "name": "python",
   "nbconvert_exporter": "python",
   "pygments_lexer": "ipython3",
   "version": "3.10.5"
  },
  "orig_nbformat": 4
 },
 "nbformat": 4,
 "nbformat_minor": 2
}
