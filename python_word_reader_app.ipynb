{
 "cells": [
  {
   "cell_type": "markdown",
   "metadata": {},
   "source": [
    "## Python Word Reader App"
   ]
  },
  {
   "cell_type": "code",
   "execution_count": 19,
   "metadata": {},
   "outputs": [],
   "source": [
    "# pip install python-docx"
   ]
  },
  {
   "cell_type": "code",
   "execution_count": 20,
   "metadata": {},
   "outputs": [],
   "source": [
    "# pip install gTTS  # (Google Text-to-Speech) library\n"
   ]
  },
  {
   "cell_type": "code",
   "execution_count": 21,
   "metadata": {},
   "outputs": [],
   "source": [
    "from docx import Document\n",
    "from gtts import gTTS\n",
    "\n",
    "def read_word_file(file_path):\n",
    "    doc = Document(file_path)\n",
    "    content = []\n",
    "\n",
    "    for paragraph in doc.paragraphs:\n",
    "        content.append(paragraph.text)\n",
    "\n",
    "    return '\\n'.join(content)\n",
    "\n",
    "def save_as_audio(text, file_name):\n",
    "    #tts = gTTS(text, lang='en-us')  # SAM voice\n",
    "    # https://gtts.readthedocs.io/en/latest/module.html\n",
    "    # tts = gTTS(text, lang='en-au')  # Aussie\n",
    "    tts = gTTS(text, lang='en-in')  # Indian -English\n",
    "\n",
    "    tts.save(file_name)\n",
    "\n",
    "if __name__ == '__main__':\n",
    "    #file_path = 'path/to/your/file.docx'\n",
    "    file_path = 'Cover letter to Upwork.docx'\n",
    "    content = read_word_file(file_path)\n",
    "\n",
    "    audio_file_name = 'output_audio.mp3'\n",
    "    save_as_audio(content, audio_file_name)\n"
   ]
  },
  {
   "cell_type": "code",
   "execution_count": null,
   "metadata": {},
   "outputs": [],
   "source": []
  }
 ],
 "metadata": {
  "kernelspec": {
   "display_name": "Python 3",
   "language": "python",
   "name": "python3"
  },
  "language_info": {
   "codemirror_mode": {
    "name": "ipython",
    "version": 3
   },
   "file_extension": ".py",
   "mimetype": "text/x-python",
   "name": "python",
   "nbconvert_exporter": "python",
   "pygments_lexer": "ipython3",
   "version": "3.10.5"
  },
  "orig_nbformat": 4
 },
 "nbformat": 4,
 "nbformat_minor": 2
}
